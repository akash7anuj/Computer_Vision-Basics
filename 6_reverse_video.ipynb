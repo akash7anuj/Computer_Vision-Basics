{
 "cells": [
  {
   "cell_type": "code",
   "execution_count": 3,
   "metadata": {},
   "outputs": [],
   "source": [
    "import cv2"
   ]
  },
  {
   "cell_type": "code",
   "execution_count": 6,
   "metadata": {},
   "outputs": [],
   "source": [
    "cap = cv2.VideoCapture(r\"images\\reverse.mp4\")\n",
    "c = 1\n",
    "l = []\n",
    "\n",
    "while cap.isOpened():\n",
    "    r, f = cap.read()\n",
    "    if r == True:\n",
    "        file_name = r\"C:\\Users\\DELL\\Desktop\\C vision\\reverse image\\reverseimge\" + str(c) + \".jpg\"\n",
    "        l.append(file_name)\n",
    "        cv2.imwrite(file_name, f)\n",
    "        c += 1\n",
    "        cv2.imshow(\"wscube\", f)\n",
    "        if cv2.waitKey(25) & 0xff == ord(\"q\"):\n",
    "            break\n",
    "    else:\n",
    "        break\n",
    "\n",
    "l.reverse()\n",
    "for i in l:\n",
    "    img_new = cv2.imread(i)\n",
    "    cv2.imshow(\"wscube_new\", img_new)\n",
    "    if cv2.waitKey(25) & 0xff == ord(\"q\"):\n",
    "        break\n",
    "\n",
    "cap.release()\n",
    "cv2.destroyAllWindows()\n"
   ]
  },
  {
   "cell_type": "code",
   "execution_count": null,
   "metadata": {},
   "outputs": [],
   "source": []
  }
 ],
 "metadata": {
  "kernelspec": {
   "display_name": "Python 3",
   "language": "python",
   "name": "python3"
  },
  "language_info": {
   "codemirror_mode": {
    "name": "ipython",
    "version": 3
   },
   "file_extension": ".py",
   "mimetype": "text/x-python",
   "name": "python",
   "nbconvert_exporter": "python",
   "pygments_lexer": "ipython3",
   "version": "3.12.4"
  }
 },
 "nbformat": 4,
 "nbformat_minor": 2
}
