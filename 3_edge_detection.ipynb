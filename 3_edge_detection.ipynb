{
 "cells": [
  {
   "cell_type": "code",
   "execution_count": 7,
   "metadata": {},
   "outputs": [],
   "source": [
    "import cv2\n",
    "import numpy as np"
   ]
  },
  {
   "cell_type": "markdown",
   "metadata": {},
   "source": [
    "# edge of image"
   ]
  },
  {
   "cell_type": "code",
   "execution_count": 3,
   "metadata": {},
   "outputs": [
    {
     "name": "stdout",
     "output_type": "stream",
     "text": [
      "(500, 500, 3)\n",
      "(500, 500)\n"
     ]
    }
   ],
   "source": [
    "img = cv2.imread(r\"images\\img2.jpg\")\n",
    "img = cv2.resize(img, (500, 500))\n",
    "print(img.shape)\n",
    "\n",
    "new_img = cv2.Canny(img, 170, 170, apertureSize= 5, L2gradient= True)\n",
    "print(new_img.shape)\n",
    "\n",
    "cv2.imshow(\"edge\", new_img)\n",
    "cv2.imshow(\"normal\", img)\n",
    "\n",
    "cv2.waitKey(0)\n",
    "cv2.destroyAllWindows()"
   ]
  },
  {
   "cell_type": "markdown",
   "metadata": {},
   "source": [
    "# rotate the image"
   ]
  },
  {
   "cell_type": "code",
   "execution_count": 10,
   "metadata": {},
   "outputs": [],
   "source": [
    "org_img = cv2.imread(r\"images/img3.jpg\")\n",
    "res_img = cv2.resize(org_img, (500,500))\n",
    "\n",
    "w,h = res_img.shape[0], res_img.shape[1]\n",
    "\n",
    "m = cv2.getRotationMatrix2D((w/2, h/2), 60, 1)\n",
    "\n",
    "new_img = cv2.warpAffine(res_img, m, (w,h))\n",
    "\n",
    "h = np.hstack((res_img, new_img) )\n",
    "cv2.imshow(\"rotate Anuj\", h)\n",
    "\n",
    "cv2.waitKey(0)\n",
    "cv2.destroyAllWindows()\n"
   ]
  },
  {
   "cell_type": "markdown",
   "metadata": {},
   "source": [
    "# image bluring"
   ]
  },
  {
   "cell_type": "code",
   "execution_count": 23,
   "metadata": {},
   "outputs": [],
   "source": [
    "img = cv2.imread(r\"images\\img2.jpg\")\n",
    "res_img = cv2.resize(img, (300, 300))\n",
    "\n",
    "g = cv2.GaussianBlur(res_img, (9,9), 0)\n",
    "m = cv2.medianBlur(res_img, 5)\n",
    "b = cv2.bilateralFilter(res_img, 19, 100, 100)\n",
    "\n",
    "h = np.hstack((res_img, g, m, b))\n",
    "cv2.imshow(\"blur\", h)\n",
    "\n",
    "cv2.waitKey(0)\n",
    "cv2.destroyAllWindows()"
   ]
  },
  {
   "cell_type": "markdown",
   "metadata": {},
   "source": [
    "# save image "
   ]
  },
  {
   "cell_type": "code",
   "execution_count": 32,
   "metadata": {},
   "outputs": [],
   "source": [
    "img = cv2.imread(r\"images/img1.jpeg\")\n",
    "re_img = cv2.resize(img, (300, 300))\n",
    "\n",
    "h = np.hstack((re_img, re_img))\n",
    "v = np.vstack((h,h))\n",
    "\n",
    "cv2.imwrite(r\"images/saved_img.jpg\", v)\n",
    "\n",
    "cv2.imshow(\"wscube\", v)\n",
    "cv2.waitKey(0)\n",
    "cv2.destroyAllWindows()\n"
   ]
  },
  {
   "cell_type": "markdown",
   "metadata": {},
   "source": [
    "# make border in image"
   ]
  },
  {
   "cell_type": "code",
   "execution_count": 52,
   "metadata": {},
   "outputs": [],
   "source": [
    "img = cv2.imread(r\"images/img1.jpeg\")\n",
    "re_img1 = cv2.resize(img, (300, 300))\n",
    "\n",
    "img1 = cv2.copyMakeBorder(re_img1, 10, 10, 10, 10, cv2.BORDER_CONSTANT, None, value=2)\n",
    "re_img2 = cv2.resize(img1, (300, 300))\n",
    "\n",
    "img2 = cv2.copyMakeBorder(re_img1, 30, 30, 30, 30, cv2.BORDER_REFLECT)\n",
    "re_img3 = cv2.resize(img2, (300, 300))\n",
    "\n",
    "img3 = cv2.copyMakeBorder(re_img1, 30, 30, 30, 30, cv2.BORDER_REPLICATE)\n",
    "re_img4 = cv2.resize(img3, (300, 300))\n",
    "\n",
    "h = np.hstack((re_img1, re_img2, re_img3, re_img4))\n",
    "\n",
    "cv2.imshow(\"wscube\", h) \n",
    "cv2.waitKey(0)\n",
    "cv2.destroyAllWindows()\n"
   ]
  },
  {
   "cell_type": "code",
   "execution_count": null,
   "metadata": {},
   "outputs": [],
   "source": []
  }
 ],
 "metadata": {
  "kernelspec": {
   "display_name": "Python 3",
   "language": "python",
   "name": "python3"
  },
  "language_info": {
   "codemirror_mode": {
    "name": "ipython",
    "version": 3
   },
   "file_extension": ".py",
   "mimetype": "text/x-python",
   "name": "python",
   "nbconvert_exporter": "python",
   "pygments_lexer": "ipython3",
   "version": "3.12.7"
  }
 },
 "nbformat": 4,
 "nbformat_minor": 2
}
