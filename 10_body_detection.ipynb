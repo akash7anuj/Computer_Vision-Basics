{
 "cells": [
  {
   "cell_type": "code",
   "execution_count": 1,
   "metadata": {},
   "outputs": [],
   "source": [
    "import cv2\n",
    "\n",
    "# Open video file\n",
    "cap = cv2.VideoCapture(r\"video\\reverse.mp4\")\n",
    "# cap = cv2.VideoCapture(0)\n",
    "\n",
    "while True:\n",
    "    ret, frame = cap.read()\n",
    "    if ret == True:\n",
    "        frame = cv2.resize(frame, (800, 500))\n",
    "        gray = cv2.cvtColor(frame, cv2.COLOR_BGR2GRAY)\n",
    "        \n",
    "        hm = cv2.CascadeClassifier(r\"video\\haarcascade_fullbody.xml\")\n",
    "        h = hm.detectMultiScale(gray, 1.2, 4)\n",
    "\n",
    "        for x, y, w, h in h:\n",
    "            cv2.rectangle(frame, (x, y), (x + w, y + h), (255, 0, 0), 2)\n",
    "        \n",
    "        cv2.imshow(\"wscube\", frame)\n",
    "        if cv2.waitKey(25) & 0xFF == ord(\"q\"):\n",
    "            break\n",
    "    else:\n",
    "        break\n",
    "\n",
    "# Release the video capture object and close all OpenCV windows\n",
    "cap.release()\n",
    "cv2.destroyAllWindows()\n"
   ]
  },
  {
   "cell_type": "markdown",
   "metadata": {},
   "source": [
    "right hand in right side ...\n"
   ]
  },
  {
   "cell_type": "code",
   "execution_count": null,
   "metadata": {},
   "outputs": [],
   "source": [
    "import cv2\n",
    "import mediapipe as mp\n",
    "\n",
    "# Open video capture from the default camera\n",
    "cap = cv2.VideoCapture(0)\n",
    "\n",
    "while cap.isOpened():\n",
    "    ret, frame = cap.read()\n",
    "    # Flip the frame horizontally\n",
    "    frame = cv2.flip(frame, 1)\n",
    "    \n",
    "    if ret == True:\n",
    "        # Display the video frame\n",
    "        cv2.imshow(\"wscube\", frame)\n",
    "        \n",
    "        # Exit the loop when 'q' is pressed\n",
    "        if cv2.waitKey(25) & 0xFF == ord(\"q\"):\n",
    "            break\n",
    "    else:\n",
    "        break\n",
    "\n",
    "# Release the video capture object and close all OpenCV windows\n",
    "cap.release()\n",
    "cv2.destroyAllWindows()\n"
   ]
  },
  {
   "cell_type": "markdown",
   "metadata": {},
   "source": [
    "***face detection***"
   ]
  },
  {
   "cell_type": "code",
   "execution_count": null,
   "metadata": {},
   "outputs": [],
   "source": [
    "import cv2\n",
    "import mediapipe as mp\n",
    "\n",
    "mp_face_det = mp.solutions.face_detection\n",
    "mp_draw = mp.solutions.drawing_utils\n",
    "\n",
    "face_dect = mp_face_det.FaceDetection(min_detection_confidence=1, model_selection=0)\n",
    "cap = cv2.VideoCapture(0)\n",
    "# cap = cv2.VideoCapture(r\"video\\smilling_group2.mp4\")\n",
    "\n",
    "while cap.isOpened():\n",
    "    r, frame = cap.read()\n",
    "    frame = cv2.flip(frame, 1)\n",
    "\n",
    "    frame = cv2.resize(frame, (700, 500))\n",
    "    \n",
    "    frame = cv2.cvtColor(frame, cv2.COLOR_BGR2RGB)\n",
    "    result = face_dect.process(frame)\n",
    "    frame = cv2.cvtColor(frame, cv2.COLOR_RGB2BGR)\n",
    "    \n",
    "    if r == True:\n",
    "        if result.detections:\n",
    "            for cr in result.detections:\n",
    "                mp_draw.draw_detection(frame, cr)\n",
    "                \n",
    "        cv2.imshow(\"wscube\", frame)\n",
    "        \n",
    "        if cv2.waitKey(25) & 0xFF == ord(\"q\"):\n",
    "            break\n",
    "    else:\n",
    "        break\n",
    "\n",
    "cap.release()\n",
    "cv2.destroyAllWindows()\n"
   ]
  },
  {
   "cell_type": "code",
   "execution_count": null,
   "metadata": {},
   "outputs": [],
   "source": [
    "import mediapipe as mp\n",
    "\n",
    "# python -m pip install msvc-runtime\n"
   ]
  },
  {
   "cell_type": "markdown",
   "metadata": {},
   "source": [
    "***arm detection***"
   ]
  },
  {
   "cell_type": "code",
   "execution_count": 1,
   "metadata": {},
   "outputs": [],
   "source": [
    "import cv2\n",
    "import mediapipe as mp\n",
    "\n",
    "# Initialize MediaPipe's hand detection module and drawing utilities\n",
    "mp_hands = mp.solutions.hands\n",
    "mp_draw = mp.solutions.drawing_utils\n",
    "\n",
    "# Set up hand detection with minimum confidence for detection\n",
    "hand_detector = mp_hands.Hands(min_detection_confidence=0.7, min_tracking_confidence=0.7)\n",
    "\n",
    "# Initialize webcam\n",
    "# cap = cv2.VideoCapture(r\"video\\smilling_group2.mp4\")\n",
    "cap = cv2.VideoCapture(0)\n",
    "\n",
    "while cap.isOpened():\n",
    "    success, frame = cap.read()\n",
    "    if not success:\n",
    "        break\n",
    "\n",
    "    # Convert the color to RGB as MediaPipe requires it\n",
    "    frame_rgb = cv2.cvtColor(frame, cv2.COLOR_BGR2RGB)\n",
    "    # Process the frame and detect hands\n",
    "    result = hand_detector.process(frame_rgb)\n",
    "\n",
    "    # Check if hands are detected\n",
    "    if result.multi_hand_landmarks:\n",
    "        for hand_landmarks in result.multi_hand_landmarks:\n",
    "            # Draw hand landmarks on the frame\n",
    "            mp_draw.draw_landmarks(frame, hand_landmarks, mp_hands.HAND_CONNECTIONS)\n",
    "\n",
    "    # Display the output frame\n",
    "    cv2.imshow(\"Hand Detection\", frame)\n",
    "\n",
    "    # Exit when 'q' key is pressed\n",
    "    if cv2.waitKey(25) & 0xFF == ord(\"q\"):\n",
    "        break\n",
    "\n",
    "# Release resources\n",
    "cap.release()\n",
    "cv2.destroyAllWindows()\n"
   ]
  },
  {
   "cell_type": "code",
   "execution_count": null,
   "metadata": {},
   "outputs": [],
   "source": []
  }
 ],
 "metadata": {
  "kernelspec": {
   "display_name": "Python 3",
   "language": "python",
   "name": "python3"
  },
  "language_info": {
   "codemirror_mode": {
    "name": "ipython",
    "version": 3
   },
   "file_extension": ".py",
   "mimetype": "text/x-python",
   "name": "python",
   "nbconvert_exporter": "python",
   "pygments_lexer": "ipython3",
   "version": "3.12.4"
  }
 },
 "nbformat": 4,
 "nbformat_minor": 2
}
