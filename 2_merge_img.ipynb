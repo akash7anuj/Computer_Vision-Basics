{
 "cells": [
  {
   "cell_type": "markdown",
   "metadata": {},
   "source": [
    "# merge two images"
   ]
  },
  {
   "cell_type": "code",
   "execution_count": 1,
   "metadata": {},
   "outputs": [],
   "source": [
    "import cv2\n",
    "import numpy as np"
   ]
  },
  {
   "cell_type": "code",
   "execution_count": 2,
   "metadata": {},
   "outputs": [],
   "source": [
    "img1 = cv2.imread(r\"images\\img2.jpg\")\n",
    "img2 = cv2.imread(r\"images\\img3.jpg\")\n",
    "\n",
    "img1 = cv2.resize(img1, (550, 540))\n",
    "img2 = cv2.resize(img2, (550, 540))\n",
    "\n",
    "# new_img = cv2.addWeighted(img1,0.4, img2,1, 1)  # add two images\n",
    "\n",
    "new_img = cv2.subtract(img1, img2)\n",
    "# new_img = cv2.subtract(img2, img1)\n",
    "\n",
    "cv2.imshow(\"merge_img\", new_img)\n",
    "cv2.waitKey(0)\n",
    "cv2.destroyAllWindows()"
   ]
  },
  {
   "cell_type": "markdown",
   "metadata": {},
   "source": [
    "# bitwise operation\n"
   ]
  },
  {
   "cell_type": "code",
   "execution_count": 3,
   "metadata": {},
   "outputs": [],
   "source": [
    "#  work on \"0\", \"1\"\n",
    "\n",
    "img1 = cv2.imread(r\"images\\binary1.png\")\n",
    "img2 = cv2.imread(r\"images\\binary2.png\")\n",
    "\n",
    "img1 = cv2.resize(img1, (350, 340))\n",
    "img2 = cv2.resize(img2, (350, 340))\n",
    "\n",
    "\n",
    "new_img = cv2.bitwise_and(img1, img2) # follow and \n",
    "new_img = cv2.bitwise_or(img1, img2)  # follow or\n",
    "new_img = cv2.bitwise_xor(img1, img2)  # follow ex-or\n",
    "new_img = cv2.bitwise_not(img1)\n",
    "new_img1 = cv2.bitwise_not(img2)\n",
    "\n",
    "h = np.hstack((img1, new_img))\n",
    "h1 = np.hstack((img2, new_img1))\n",
    "\n",
    "v = np.vstack((h, h1))\n",
    "\n",
    "cv2.imshow(\"merge_img\", v)\n",
    "cv2.waitKey(0)\n",
    "cv2.destroyAllWindows()\n"
   ]
  },
  {
   "cell_type": "code",
   "execution_count": null,
   "metadata": {},
   "outputs": [],
   "source": []
  }
 ],
 "metadata": {
  "kernelspec": {
   "display_name": "Python 3",
   "language": "python",
   "name": "python3"
  },
  "language_info": {
   "codemirror_mode": {
    "name": "ipython",
    "version": 3
   },
   "file_extension": ".py",
   "mimetype": "text/x-python",
   "name": "python",
   "nbconvert_exporter": "python",
   "pygments_lexer": "ipython3",
   "version": "3.12.7"
  }
 },
 "nbformat": 4,
 "nbformat_minor": 2
}
