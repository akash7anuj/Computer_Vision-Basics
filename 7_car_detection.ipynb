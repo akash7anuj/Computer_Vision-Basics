{
 "cells": [
  {
   "cell_type": "code",
   "execution_count": null,
   "metadata": {},
   "outputs": [],
   "source": [
    "import cv2\n",
    "\n",
    "cap = cv2.VideoCapture(r\"video\\car_detection.mp4\")\n",
    "\n",
    "while True:\n",
    "    r, frame = cap.read()\n",
    "    if r == True:\n",
    "        frame = cv2.resize(frame, (900, 500))\n",
    "\n",
    "        # Convert to grayscale for faster processing\n",
    "        gray = cv2.cvtColor(frame, cv2.COLOR_BGR2GRAY)\n",
    "\n",
    "        # Detect cars in the frame\n",
    "        car = cv2.CascadeClassifier(r\"video\\haarcascade_car.xml\")\n",
    "\n",
    "        # Detect cars in the frame\n",
    "        cars = car.detectMultiScale(gray, 1.1, 1)\n",
    "\n",
    "        # Draw rectangles around detected cars\n",
    "        for (x, y, w, h) in cars:\n",
    "            cv2.rectangle(frame, (x, y), (x+w, y+h), (0, 255, 0), 2)\n",
    "            \n",
    "        cv2.imshow(\"car detection\", frame)\n",
    "        if cv2.waitKey(5) & 0xff == ord(\"q\"):\n",
    "            break\n",
    "    else:\n",
    "        break\n",
    "\n",
    "cap.release()\n",
    "cv2.destroyAllWindows()\n"
   ]
  },
  {
   "cell_type": "markdown",
   "metadata": {},
   "source": [
    "bike   \n",
    "car    \n",
    "no. plate [etc]"
   ]
  },
  {
   "cell_type": "code",
   "execution_count": 1,
   "metadata": {},
   "outputs": [],
   "source": [
    "import cv2\n",
    "\n",
    "# Load the pre-trained Haar Cascade for car detection\n",
    "car_cascade = cv2.CascadeClassifier(r'video\\haarcascade_car.xml')\n",
    "\n",
    "# Open the video file (or you can set it to 0 to use a webcam)\n",
    "cap = cv2.VideoCapture(r\"video\\car_detection.mp4\")  # Replace \"cars.mp4\" with your video file or set to 0 for webcam\n",
    "\n",
    "while cap.isOpened():\n",
    "    # Read each frame\n",
    "    ret, frame = cap.read()\n",
    "    if not ret:\n",
    "        break\n",
    "    \n",
    "    # Convert to grayscale for faster processing\n",
    "    gray = cv2.cvtColor(frame, cv2.COLOR_BGR2GRAY)\n",
    "    \n",
    "    # Detect cars in the frame\n",
    "    cars = car_cascade.detectMultiScale(gray, 1.1, 1)\n",
    "\n",
    "    # Draw rectangles around detected cars\n",
    "    for (x, y, w, h) in cars:\n",
    "        cv2.rectangle(frame, (x, y), (x+w, y+h), (0, 255, 0), 2)\n",
    "    \n",
    "    # Display the frame with car detections\n",
    "    cv2.imshow('Car Detection', frame)\n",
    "\n",
    "    # Press 'q' to exit\n",
    "    if cv2.waitKey(1) & 0xFF == ord('q'):\n",
    "        break\n",
    "\n",
    "# Release the capture and close windows\n",
    "cap.release()\n",
    "cv2.destroyAllWindows()\n"
   ]
  },
  {
   "cell_type": "code",
   "execution_count": null,
   "metadata": {},
   "outputs": [],
   "source": []
  }
 ],
 "metadata": {
  "kernelspec": {
   "display_name": "Python 3",
   "language": "python",
   "name": "python3"
  },
  "language_info": {
   "codemirror_mode": {
    "name": "ipython",
    "version": 3
   },
   "file_extension": ".py",
   "mimetype": "text/x-python",
   "name": "python",
   "nbconvert_exporter": "python",
   "pygments_lexer": "ipython3",
   "version": "3.11.4"
  }
 },
 "nbformat": 4,
 "nbformat_minor": 2
}
