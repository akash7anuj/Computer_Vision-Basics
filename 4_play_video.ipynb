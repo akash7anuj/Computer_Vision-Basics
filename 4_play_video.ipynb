{
 "cells": [
  {
   "cell_type": "code",
   "execution_count": 2,
   "metadata": {},
   "outputs": [],
   "source": [
    "import cv2\n",
    "import numpy as np"
   ]
  },
  {
   "cell_type": "markdown",
   "metadata": {},
   "source": [
    "# play video"
   ]
  },
  {
   "cell_type": "code",
   "execution_count": 11,
   "metadata": {},
   "outputs": [],
   "source": [
    "cap = cv2.VideoCapture(r\"images/video1.mp4\")\n",
    "\n",
    "while cap.isOpened():\n",
    "    r, frame = cap.read()\n",
    "\n",
    "    if r == True:\n",
    "        frame = cv2.resize(frame, (400, 600))\n",
    "        cv2.imshow(\"video 1\", frame)\n",
    "        \n",
    "        if cv2.waitKey(500) & 0xff == ord(\"p\"):\n",
    "            break\n",
    "    else:\n",
    "        break\n",
    "\n",
    "cap.release()\n",
    "cv2.destroyAllWindows()"
   ]
  },
  {
   "cell_type": "markdown",
   "metadata": {},
   "source": [
    "# enable camera"
   ]
  },
  {
   "cell_type": "code",
   "execution_count": 2,
   "metadata": {},
   "outputs": [],
   "source": [
    "cap = cv2.VideoCapture(0)  # \"1\" for external camera\n",
    "\n",
    "while True:\n",
    "    r, frame = cap.read()\n",
    "\n",
    "    if r == True:\n",
    "        frame = cv2.resize(frame, (700, 500))\n",
    "        cv2.imshow(\"video 2\", frame)\n",
    "\n",
    "        if cv2.waitKey(25) & 0xff == ord(\"p\"):\n",
    "            break\n",
    "    else:\n",
    "        break\n",
    "\n",
    "cap.release()\n",
    "cv2.destroyAllWindows()"
   ]
  },
  {
   "cell_type": "markdown",
   "metadata": {},
   "source": [
    "# Morphological operations"
   ]
  },
  {
   "cell_type": "code",
   "execution_count": 10,
   "metadata": {},
   "outputs": [],
   "source": [
    "img = cv2.imread(r\"images\\image 1.png\")\n",
    "img = cv2.resize(img, (200, 200))\n",
    "\n",
    "m = np.ones((10, 10), np.int8)\n",
    "\n",
    "er = cv2.erode(img, m, iterations=1)\n",
    "dl = cv2.dilate(img, m, iterations=1)\n",
    "\n",
    "gr = cv2.morphologyEx(img, cv2.MORPH_GRADIENT, m, iterations=1)\n",
    "tp = cv2.morphologyEx(img, cv2.MORPH_TOPHAT, m, iterations=1)\n",
    "bt = cv2.morphologyEx(img, cv2.MORPH_BLACKHAT, m, iterations=1)\n",
    "\n",
    "h = np.hstack((img, er, dl, gr, tp, bt))\n",
    "cv2.imshow(\"oprator\", h)\n",
    "cv2.waitKey(0)\n",
    "cv2.destroyAllWindows()"
   ]
  },
  {
   "cell_type": "markdown",
   "metadata": {},
   "source": [
    "# piramid of image"
   ]
  },
  {
   "cell_type": "code",
   "execution_count": 5,
   "metadata": {},
   "outputs": [],
   "source": [
    "img = cv2.imread(r\"images/img1.jpeg\")\n",
    "img = cv2.resize(img, (500, 500))\n",
    "\n",
    "cv2.imshow(\"image-1\", img)\n",
    "cv2.waitKey(0)\n",
    "cv2.destroyAllWindows()"
   ]
  },
  {
   "cell_type": "code",
   "execution_count": 6,
   "metadata": {},
   "outputs": [
    {
     "name": "stdout",
     "output_type": "stream",
     "text": [
      "(2817, 2816, 3)\n",
      "(1409, 1408, 3)\n",
      "(705, 704, 3)\n",
      "(353, 352, 3)\n",
      "(177, 176, 3)\n",
      "(354, 352, 3)\n",
      "(708, 704, 3)\n",
      "(1416, 1408, 3)\n"
     ]
    }
   ],
   "source": [
    "img = cv2.imread(r\"images/img1.jpeg\")\n",
    "\n",
    "new_img = cv2.pyrDown(img)\n",
    "new_img2 = cv2.pyrDown(new_img)\n",
    "new_img3 = cv2.pyrDown(new_img2)\n",
    "new_img4 = cv2.pyrDown(new_img3)\n",
    "\n",
    "print(img.shape)\n",
    "print(new_img.shape)\n",
    "print(new_img2.shape)\n",
    "print(new_img3.shape)\n",
    "print(new_img4.shape)\n",
    "\n",
    "big_img = cv2.pyrUp(new_img4)\n",
    "big_img1 = cv2.pyrUp(big_img)\n",
    "big_img2 = cv2.pyrUp(big_img1)\n",
    "\n",
    "print(big_img.shape)\n",
    "print(big_img1.shape)\n",
    "print(big_img2.shape)\n",
    "\n",
    "cv2.imshow(\"image-1\", img)\n",
    "cv2.imshow(\"image_resize\", big_img)\n",
    "cv2.imshow(\"image_resize2\", big_img1)\n",
    "cv2.imshow(\"image_resize3\", big_img2)\n",
    "# cv2.imshow(\"image_resize4\", new_img4)\n",
    "\n",
    "cv2.waitKey(0)\n",
    "cv2.destroyAllWindows()"
   ]
  },
  {
   "cell_type": "markdown",
   "metadata": {},
   "source": [
    "***croping of image***"
   ]
  },
  {
   "cell_type": "code",
   "execution_count": 6,
   "metadata": {},
   "outputs": [],
   "source": [
    "import cv2\n",
    "import numpy as np\n",
    "\n",
    "img = cv2.imread(r\"images\\img2.jpg\")\n",
    "img = cv2.resize(img, (500, 500))\n",
    "\n",
    "# print(img.shape)\n",
    "\n",
    "m = np.float32([[1, 1, 100], [1, 10, 50]])\n",
    "new = cv2.warpAffine(img, m, (500, 500))\n",
    "\n",
    "cv2.imshow(\"ws1\", img)\n",
    "cv2.imshow(\"ws2\", m)\n",
    "cv2.imshow(\"ws3\", new)\n",
    "\n",
    "cv2.waitKey(0)\n",
    "cv2.destroyAllWindows()\n"
   ]
  },
  {
   "cell_type": "code",
   "execution_count": null,
   "metadata": {},
   "outputs": [],
   "source": []
  }
 ],
 "metadata": {
  "kernelspec": {
   "display_name": "Python 3",
   "language": "python",
   "name": "python3"
  },
  "language_info": {
   "codemirror_mode": {
    "name": "ipython",
    "version": 3
   },
   "file_extension": ".py",
   "mimetype": "text/x-python",
   "name": "python",
   "nbconvert_exporter": "python",
   "pygments_lexer": "ipython3",
   "version": "3.12.7"
  }
 },
 "nbformat": 4,
 "nbformat_minor": 2
}
