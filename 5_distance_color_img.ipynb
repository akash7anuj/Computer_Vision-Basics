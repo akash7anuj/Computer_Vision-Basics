{
 "cells": [
  {
   "cell_type": "code",
   "execution_count": 2,
   "metadata": {},
   "outputs": [],
   "source": [
    "import cv2"
   ]
  },
  {
   "cell_type": "code",
   "execution_count": 4,
   "metadata": {},
   "outputs": [],
   "source": [
    "def click_b(event, x, y, f, p):\n",
    "    if event == cv2.EVENT_LBUTTONDOWN:\n",
    "        s = f\"({x}, {y})\"\n",
    "        cv2.putText(img, s, (x, y), cv2.FONT_HERSHEY_COMPLEX, 0.5, (0, 0, 0))\n",
    "        cv2.imshow(\"anuj1\", img)\n",
    "    elif event == cv2.EVENT_RBUTTONDOWN:\n",
    "        b = img[y, x, 0]\n",
    "        g = img[y, x, 1]\n",
    "        r = img[y, x, 2]\n",
    "        s = f\"({b}, {g}, {r})\"\n",
    "        cv2.putText(img, s, (x, y), cv2.FONT_HERSHEY_COMPLEX, 0.5, (0, 0, 0))\n",
    "        cv2.imshow(\"anuj1\", img)\n",
    "\n",
    "img = cv2.imread(r\"images\\img2.jpg\")\n",
    "img = cv2.resize(img, (500, 500))\n",
    "cv2.imshow(\"anuj\", img)\n",
    "cv2.setMouseCallback(\"anuj\", click_b)\n",
    "\n",
    "cv2.waitKey(0)\n",
    "cv2.destroyAllWindows()\n"
   ]
  },
  {
   "cell_type": "code",
   "execution_count": null,
   "metadata": {},
   "outputs": [],
   "source": []
  }
 ],
 "metadata": {
  "kernelspec": {
   "display_name": "Python 3",
   "language": "python",
   "name": "python3"
  },
  "language_info": {
   "codemirror_mode": {
    "name": "ipython",
    "version": 3
   },
   "file_extension": ".py",
   "mimetype": "text/x-python",
   "name": "python",
   "nbconvert_exporter": "python",
   "pygments_lexer": "ipython3",
   "version": "3.12.7"
  }
 },
 "nbformat": 4,
 "nbformat_minor": 2
}
