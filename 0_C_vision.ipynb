{
 "cells": [
  {
   "cell_type": "markdown",
   "metadata": {},
   "source": [
    "***Computer Vision Systems Task***\n",
    "\n",
    "1. Object classification\n",
    "2. Object identification\n",
    "3. Object tracking\n",
    "4. Image restoration\n",
    "5. Feature matching\n",
    "6. Video motion analysis"
   ]
  },
  {
   "cell_type": "markdown",
   "metadata": {},
   "source": [
    "***OpenCV modules***. The main modules are:\n",
    "\n",
    "1. core: Contains fundamental functions and data structures.\n",
    "2. imgproc: Provides image processing functions.\n",
    "3. imgcodecs: Handles image reading and writing.\n",
    "4. highgui: Provides high-level GUI functions.\n",
    "5. video: Contains video-related functions.\n",
    "6. calib3d: Contains camera calibration and 3D vision algorithms.\n",
    "7. features2d: Provides feature detection and description algorithms.\n",
    "8. objdetect: Contains object detection algorithms.\n",
    "9. dnn: Provides deep learning functions.\n",
    "10. ml: Provides machine learning algorithms.\n",
    "11. flann: Provides fast approximate nearest neighbor search algorithms.\n",
    "12. photo: Contains photo editing functions.\n",
    "13. stitching: Contains image stitching algorithms.\n",
    "14. shape: Contains shape analysis functions.\n",
    "15. superres: Contains super-resolution algorithms.\n",
    "16. videostab: Contains video stabilization algorithms.\n",
    "17. viz: Contains visualization functions."
   ]
  },
  {
   "cell_type": "markdown",
   "metadata": {},
   "source": [
    "There are two common ways to identify the images:\n",
    "\n",
    "1. Grayscale\n",
    "\n",
    "2. RGB (Red, Green, Blue)"
   ]
  },
  {
   "cell_type": "code",
   "execution_count": null,
   "metadata": {},
   "outputs": [],
   "source": []
  }
 ],
 "metadata": {
  "language_info": {
   "name": "python"
  }
 },
 "nbformat": 4,
 "nbformat_minor": 2
}
