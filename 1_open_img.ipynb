{
 "cells": [
  {
   "cell_type": "markdown",
   "metadata": {},
   "source": [
    "# image view"
   ]
  },
  {
   "cell_type": "code",
   "execution_count": 1,
   "metadata": {},
   "outputs": [],
   "source": [
    "import cv2\n",
    "\n",
    "img = cv2.imread(r\"C:\\Users\\DELL\\Desktop\\C vision\\images\\img1.jpeg\")  # Reads the image \"img1.jpg\"\n",
    "cv2.imshow(\"Anuj\", img)  # Displays the image in a window named\n",
    "cv2.waitKey(0)  # Waits for a key press (0 means infinite wait)  {time in ms }\n",
    "cv2.destroyAllWindows()  # Closes all open windows"
   ]
  },
  {
   "cell_type": "code",
   "execution_count": 24,
   "metadata": {},
   "outputs": [],
   "source": [
    "import cv2\n",
    "\n",
    "img = cv2.imread(r\"C:\\Users\\DELL\\Desktop\\C vision\\images\\img1.jpeg\")  \n",
    "cv2.imshow(\"Anuj 1\", img) \n",
    "cv2.imshow(\"Anuj 2\", img)  \n",
    "cv2.waitKey(1000)  \n",
    "cv2.destroyWindow(\"Anuj 2\")  # close defined window\n",
    "cv2.destroyAllWindows()  "
   ]
  },
  {
   "cell_type": "markdown",
   "metadata": {},
   "source": [
    "# resize image"
   ]
  },
  {
   "cell_type": "code",
   "execution_count": 87,
   "metadata": {},
   "outputs": [],
   "source": [
    "import cv2\n",
    "import numpy as np"
   ]
  },
  {
   "cell_type": "code",
   "execution_count": 7,
   "metadata": {},
   "outputs": [],
   "source": [
    "img = cv2.imread(r\"C:\\Users\\DELL\\Desktop\\C vision\\images\\img3.jpg\")\n",
    "re_img = cv2.resize(img, (500, 500))  # resize image\n",
    "cv2.imshow(\"3rd Image\", re_img)\n",
    "cv2.waitKey(0)\n",
    "cv2.destroyAllWindows()"
   ]
  },
  {
   "cell_type": "markdown",
   "metadata": {},
   "source": [
    "# combine 4 image in 1 frame"
   ]
  },
  {
   "cell_type": "code",
   "execution_count": 17,
   "metadata": {},
   "outputs": [],
   "source": [
    "img = cv2.imread(r\"C:\\Users\\DELL\\Desktop\\C vision\\images\\img3.jpg\")\n",
    "re_img = cv2.resize(img, (300, 300))\n",
    "\n",
    "h = np.hstack((re_img, re_img, re_img))   # hortizontal combine\n",
    "v = np.vstack((h, h))   # verticle combine\n",
    "\n",
    "cv2.imshow(\"3rd Image\", v)\n",
    "cv2.waitKey(0)\n",
    "cv2.destroyAllWindows()"
   ]
  },
  {
   "cell_type": "code",
   "execution_count": null,
   "metadata": {},
   "outputs": [],
   "source": [
    "img = cv2.imread(r\"C:\\Users\\DELL\\Desktop\\C vision\\images\\img3.jpg\")\n",
    "print(img)  # RGB "
   ]
  },
  {
   "cell_type": "markdown",
   "metadata": {},
   "source": [
    "# slide show"
   ]
  },
  {
   "cell_type": "code",
   "execution_count": 18,
   "metadata": {},
   "outputs": [],
   "source": [
    "import os"
   ]
  },
  {
   "cell_type": "code",
   "execution_count": 19,
   "metadata": {},
   "outputs": [
    {
     "data": {
      "text/plain": [
       "['img1.jpeg', 'img2.jpg', 'img3.jpg']"
      ]
     },
     "execution_count": 19,
     "metadata": {},
     "output_type": "execute_result"
    }
   ],
   "source": [
    "list_img = os.listdir(r\"C:\\Users\\DELL\\Desktop\\C vision\\images\")\n",
    "list_img"
   ]
  },
  {
   "cell_type": "code",
   "execution_count": 22,
   "metadata": {},
   "outputs": [],
   "source": [
    "for name in list_img:\n",
    "    path = r\"C:\\Users\\DELL\\Desktop\\C vision\\images\"\n",
    "    img_name = path + \"\\\\\" + name\n",
    "\n",
    "    img = cv2.imread(img_name)\n",
    "    img = cv2.resize(img, (400, 400))\n",
    "    cv2.imshow(\"Anuj's images\", img)\n",
    "    cv2.waitKey(1000)\n",
    "\n",
    "cv2.destroyAllWindows()"
   ]
  },
  {
   "cell_type": "markdown",
   "metadata": {},
   "source": [
    "# function detail\n"
   ]
  },
  {
   "cell_type": "code",
   "execution_count": 1,
   "metadata": {},
   "outputs": [
    {
     "name": "stdout",
     "output_type": "stream",
     "text": [
      "(1555, 1449, 3)\n"
     ]
    }
   ],
   "source": [
    "import cv2\n",
    "\n",
    "img = cv2.imread(r\"images\\img3.jpg\")\n",
    "# print(img)\n",
    "\n",
    "print(img.shape)"
   ]
  },
  {
   "cell_type": "markdown",
   "metadata": {},
   "source": [
    "# black & white images"
   ]
  },
  {
   "cell_type": "code",
   "execution_count": 6,
   "metadata": {},
   "outputs": [],
   "source": [
    "img = cv2.imread(r\"C:\\Users\\DELL\\Desktop\\C vision\\images\\img3.jpg\", 0)  # \"0\" for black & white images\n",
    "re_img = cv2.resize(img, (550, 440))  \n",
    "cv2.imshow(\"3rd Image\", re_img)\n",
    "cv2.waitKey(0)\n",
    "cv2.destroyAllWindows()"
   ]
  },
  {
   "cell_type": "markdown",
   "metadata": {},
   "source": [
    "# text over image"
   ]
  },
  {
   "cell_type": "code",
   "execution_count": 37,
   "metadata": {},
   "outputs": [],
   "source": [
    "img = cv2.imread(r\"C:\\Users\\DELL\\Desktop\\C vision\\images\\img3.jpg\")  \n",
    "re_img = cv2.resize(img, (550, 540))  \n",
    "\n",
    "txt = cv2.putText(\n",
    "                    img = re_img,\n",
    "                    text= \"Anuj Singh\",\n",
    "                    org= (50, 80),\n",
    "                    fontFace= cv2.FONT_HERSHEY_PLAIN,\n",
    "                    fontScale= 5,\n",
    "                    color= (255, 0, 0),\n",
    "                    thickness= 5,\n",
    "                    lineType= cv2.LINE_8,\n",
    "                    bottomLeftOrigin= False                \n",
    "                )\n",
    "\n",
    "cv2.imshow(\"3rd Image\", re_img)\n",
    "cv2.waitKey(0)\n",
    "cv2.destroyAllWindows()"
   ]
  },
  {
   "cell_type": "markdown",
   "metadata": {},
   "source": [
    "# line or box over image"
   ]
  },
  {
   "cell_type": "code",
   "execution_count": 15,
   "metadata": {},
   "outputs": [],
   "source": [
    "img = cv2.imread(r\"C:\\Users\\DELL\\Desktop\\C vision\\images\\img3.jpg\") \n",
    "re_img = cv2.resize(img, (550, 540))  \n",
    "\n",
    "# for line on image\n",
    "new_img = cv2.line(img= re_img, pt1= (180, 120), pt2= (330, 120), color= (0, 255, 0), thickness= 1, lineType= 4)\n",
    "\n",
    "cv2.imshow(\"3rd Image\", new_img)\n",
    "cv2.waitKey(0)\n",
    "cv2.destroyAllWindows()"
   ]
  },
  {
   "cell_type": "code",
   "execution_count": 21,
   "metadata": {},
   "outputs": [],
   "source": [
    "img = cv2.imread(r\"C:\\Users\\DELL\\Desktop\\C vision\\images\\img3.jpg\") \n",
    "re_img = cv2.resize(img, (550, 540))  \n",
    "\n",
    "# for box on image\n",
    "new_img = cv2.rectangle(img= re_img, pt1= (190, 120), pt2= (330, 280), color= (0, 255, 0), thickness= 1, lineType= 16)\n",
    "\n",
    "cv2.imshow(\"3rd Image\", new_img)\n",
    "cv2.waitKey(0)\n",
    "cv2.destroyAllWindows()"
   ]
  },
  {
   "cell_type": "code",
   "execution_count": 37,
   "metadata": {},
   "outputs": [],
   "source": [
    "# for text on box of images\n",
    "\n",
    "img = cv2.imread(r\"C:\\Users\\DELL\\Desktop\\C vision\\images\\img3.jpg\") \n",
    "re_img = cv2.resize(img, (550, 540))  \n",
    "\n",
    "text_img =  cv2.putText(\n",
    "                    img = re_img,\n",
    "                    text= \"Anuj Singh\",\n",
    "                    org= (190, 115),\n",
    "                    fontFace= 1,\n",
    "                    fontScale= 1,\n",
    "                    color= (255, 0, 0),\n",
    "                    thickness= 1,\n",
    "                    lineType= cv2.LINE_8,\n",
    "                    bottomLeftOrigin= False                \n",
    "                )\n",
    "\n",
    "new_img = cv2.rectangle(img= text_img, pt1= (190, 120), pt2= (330, 280), color= (0, 255, 0), thickness= 1, lineType= 16)\n",
    "\n",
    "cv2.imshow(\"3rd Image\", new_img)\n",
    "cv2.waitKey(0)\n",
    "cv2.destroyAllWindows()"
   ]
  },
  {
   "cell_type": "markdown",
   "metadata": {},
   "source": [
    "# circle or oval on image"
   ]
  },
  {
   "cell_type": "code",
   "execution_count": 82,
   "metadata": {},
   "outputs": [],
   "source": [
    "img = cv2.imread(r\"C:\\Users\\DELL\\Desktop\\C vision\\images\\img3.jpg\") \n",
    "re_img = cv2.resize(img, (550, 540))  \n",
    "\n",
    "# Circle\n",
    "new_img = cv2.circle(img= re_img, center= (260, 200), radius= 100, color= (0, 255, 0), thickness= 2, lineType= 8)\n",
    "\n",
    "cv2.imshow(\"3rd Image\", new_img)\n",
    "cv2.waitKey(0)\n",
    "cv2.destroyAllWindows()"
   ]
  },
  {
   "cell_type": "code",
   "execution_count": 83,
   "metadata": {},
   "outputs": [],
   "source": [
    "img = cv2.imread(r\"C:\\Users\\DELL\\Desktop\\C vision\\images\\img2.jpg\") \n",
    "re_img = cv2.resize(img, (550, 540))  \n",
    "\n",
    "text_img =  cv2.putText(\n",
    "                    img = re_img,\n",
    "                    text= \"Anuj\",\n",
    "                    org= (315, 155),\n",
    "                    fontFace= 1,\n",
    "                    fontScale= 3,\n",
    "                    \n",
    "                    color= (0, 0, 255),\n",
    "                    thickness= 2,\n",
    "                    lineType= cv2.LINE_8,\n",
    "                    bottomLeftOrigin= False                \n",
    "                )\n",
    "\n",
    "# Elipse\n",
    "new_img = cv2.ellipse(img= text_img, center= (265, 175), axes=(70, 95), angle= -15, startAngle= 0, endAngle= 340,\n",
    "                       color= (0, 255, 0), thickness= 2, lineType= 8)\n",
    "\n",
    "cv2.imshow(\"3rd Image\", new_img)\n",
    "cv2.waitKey(0)\n",
    "cv2.destroyAllWindows()"
   ]
  },
  {
   "cell_type": "markdown",
   "metadata": {},
   "source": [
    "# polygon"
   ]
  },
  {
   "cell_type": "code",
   "execution_count": 124,
   "metadata": {},
   "outputs": [],
   "source": [
    "img = cv2.imread(r\"C:\\Users\\DELL\\Desktop\\C vision\\images\\img3.jpg\") \n",
    "re_img = cv2.resize(img, (550, 540))  \n",
    "\n",
    "# Circle\n",
    "new_img = cv2.polylines(img= re_img, pts= [np.array([[160,170], [250,110], [370,170], [350,300], [185,300]])], \n",
    "                        isClosed= True, color= (0, 255, 0), thickness= 2, lineType= 8,)\n",
    "\n",
    "cv2.imshow(\"3rd Image\", new_img)\n",
    "cv2.waitKey(0)\n",
    "cv2.destroyAllWindows()"
   ]
  },
  {
   "cell_type": "code",
   "execution_count": null,
   "metadata": {},
   "outputs": [],
   "source": []
  },
  {
   "cell_type": "code",
   "execution_count": null,
   "metadata": {},
   "outputs": [],
   "source": []
  }
 ],
 "metadata": {
  "kernelspec": {
   "display_name": "Python 3",
   "language": "python",
   "name": "python3"
  },
  "language_info": {
   "codemirror_mode": {
    "name": "ipython",
    "version": 3
   },
   "file_extension": ".py",
   "mimetype": "text/x-python",
   "name": "python",
   "nbconvert_exporter": "python",
   "pygments_lexer": "ipython3",
   "version": "3.12.7"
  }
 },
 "nbformat": 4,
 "nbformat_minor": 2
}
